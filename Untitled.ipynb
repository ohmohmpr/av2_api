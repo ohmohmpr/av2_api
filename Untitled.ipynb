{
 "cells": [
  {
   "cell_type": "code",
   "execution_count": 1,
   "id": "66b06956-2a91-401a-be84-e9f4d451f05c",
   "metadata": {},
   "outputs": [
    {
     "name": "stdout",
     "output_type": "stream",
     "text": [
      "Jupyter environment detected. Enabling Open3D WebVisualizer.\n",
      "[Open3D INFO] WebRTC GUI backend enabled.\n",
      "[Open3D INFO] WebRTCWindowSystem: HTTP handshake server disabled.\n"
     ]
    }
   ],
   "source": [
    "from av2.datasets.sensor.sensor_dataloader import SensorDataloader\n",
    "from av2.datasets.sensor.constants import RingCameras, StereoCameras\n",
    "from av2.rendering.color import ColorFormats, create_range_map\n",
    "from typing import Final, List, Tuple, Union\n",
    "from av2.rendering.rasterize import draw_points_xy_in_img\n",
    "from av2.rendering.video import tile_cameras, write_video\n",
    "from pathlib import Path\n",
    "from rich.progress import track\n",
    "from kiss_icp.datasets.argoverse2 import Argoverse2Dataset\n",
    "import numpy as np\n",
    "import open3d as o3d"
   ]
  },
  {
   "cell_type": "code",
   "execution_count": 2,
   "id": "6184a87b-0642-403f-b5ed-179fc71e51d9",
   "metadata": {},
   "outputs": [],
   "source": [
    "def run_generate_sensor_dataset_visualizations(\n",
    "    dataset_dir: str, with_annotations: bool, cam_names: Tuple[str, ...]\n",
    ") -> None:\n",
    "    \"\"\"Click entry point for Argoverse Sensor Dataset visualization.\n",
    "\n",
    "    Args:\n",
    "        dataset_dir: Dataset directory.\n",
    "        with_annotations: Boolean flag to return annotations.\n",
    "        cam_names: Tuple of camera names to load.\n",
    "\n",
    "    Raises:\n",
    "        ValueError: If no valid camera names are provided.\n",
    "    \"\"\"\n",
    "    valid_ring_cams = set([x.value for x in RingCameras])\n",
    "    valid_stereo_cams = set([x.value for x in StereoCameras])\n",
    "\n",
    "    cam_enums: List[Union[RingCameras, StereoCameras]] = []\n",
    "    for cam_name in cam_names:\n",
    "        if cam_name in valid_ring_cams:\n",
    "            cam_enums.append(RingCameras(cam_name))\n",
    "        elif cam_name in valid_stereo_cams:\n",
    "            cam_enums.append(StereoCameras(cam_name))\n",
    "        else:\n",
    "            raise ValueError(\"Must provide _valid_ camera names!\")\n",
    "\n",
    "    generate_sensor_dataset_visualizations(\n",
    "        Path(dataset_dir),\n",
    "        with_annotations,\n",
    "        tuple(cam_enums),\n",
    "    )"
   ]
  },
  {
   "cell_type": "code",
   "execution_count": 108,
   "id": "a6651f3d-845b-44a5-9886-d99fe0111ce9",
   "metadata": {},
   "outputs": [],
   "source": [
    "def generate_sensor_dataset_visualizations(\n",
    "    dataset_dir: Path,\n",
    "    with_annotations: bool,\n",
    "    cam_names: Tuple[Union[RingCameras, StereoCameras], ...],\n",
    ") -> None:\n",
    "    \"\"\"Create a video of a point cloud in the ego-view. Annotations may be overlaid.\n",
    "\n",
    "    Args:\n",
    "        dataset_dir: Path to the dataset directory.\n",
    "        with_annotations: Boolean flag to enable loading of annotations.\n",
    "        cam_names: Set of camera names to render.\n",
    "    \"\"\"\n",
    "    dataset = SensorDataloader(\n",
    "        dataset_dir,\n",
    "        with_annotations=with_annotations,\n",
    "        with_cache=True,\n",
    "        cam_names=cam_names,\n",
    "    )\n",
    "        # {'sweep': 'Sweep', 'timestamp_city_SE3_ego_dict': 'TimestampedCitySE3EgoPoses', 'log_id': 'str', \n",
    "    # 'sweep_number': 'int', 'num_sweeps_in_log': 'int', 'timestamp_ns': 'int', 'annotations': \n",
    "    # 'Optional[CuboidList]', 'avm': 'Optional[ArgoverseStaticMap]', 'synchronized_imagery': \n",
    "    # 'Optional[Dict[str, TimestampedImage]]'}\n",
    "\n",
    "        # {'xyz': 'NDArrayFloat', 'intensity': 'NDArrayByte', 'laser_number': 'NDArrayByte', 'offset_ns': 'NDArrayInt',\n",
    "    #'timestamp_ns': 'int', 'ego_SE3_up_lidar': 'SE3', 'ego_SE3_down_lidar': 'SE3'}\n",
    "\n",
    "    # len(dataset) = 7825\n",
    "    pos_0 = 471 # 156 -> 157\n",
    "    pos_last = 7824\n",
    "    # ego_pos_0 = dataset[156].timestamp_city_SE3_ego_dict[315967376857428267]\n",
    "    ego_pos_last = dataset[pos_0].num_sweeps_in_log\n",
    "    # sweep = dataset[156].timestamp_ns\n",
    "    # ego_SE3_up_lidar = dataset[pos_0].sweep.ego_SE3_up_lidar\n",
    "    # ego_SE3_down_lidar = dataset[pos_0].sweep.ego_SE3_down_lidar\n",
    "    # timestamp_ns = dataset[pos_0].sweep.timestamp_ns\n",
    "    # ego 2690 offset_ns\n",
    "    print(\"ego_pos_last\", ego_pos_last)\n",
    "    # print(\"ego_pos_0\", ego_pos_0)\n",
    "    # print(\"ego_SE3_up_lidar\", ego_SE3_up_lidar)\n",
    "    # print(\"ego_SE3_down_lidar\", ego_SE3_down_lidar)\n",
    "    # print(\"timestamp_ns\", timestamp_ns)"
   ]
  },
  {
   "cell_type": "code",
   "execution_count": 109,
   "id": "9f330c27-13b1-4bb9-bacc-54bee8e659ca",
   "metadata": {},
   "outputs": [
    {
     "name": "stdout",
     "output_type": "stream",
     "text": [
      "ego_pos_last 156\n"
     ]
    }
   ],
   "source": [
    "dataset_dir = Path(\"/home/ohmpr/data/datasets/av2/train-001/\")\n",
    "run_generate_sensor_dataset_visualizations(dataset_dir, True,tuple(x.value for x in RingCameras))\n",
    "# 1.350180  0.000000  1.640420\n",
    "# 1.355162  0.000133  1.565252"
   ]
  },
  {
   "cell_type": "code",
   "execution_count": 6,
   "id": "0d7e8e62-dd95-4939-b9d2-af9fcf14fb4f",
   "metadata": {},
   "outputs": [],
   "source": [
    "# Ground truth\n",
    "\n",
    "# sequence train-000 000 --> len = 2689\n",
    "\n",
    "# 15.942498944 / 2689 = 0.00592878354\n",
    "# 15.942498944 / 2657 = 0.00600018778 --> 166.661451\n",
    "# 1/0.00592878354  = 168.668664 roughly  --> num_sweeps_in_log = 157\n",
    "# 0  :315 967 376 859 506 000\n",
    "# 0  :315 967 376 859 506 000.feather 315967376859506000 - 315967376859506000 = 0 seconds --> time lag\n",
    "# -1 :315967392460052000\n",
    "# -1 :315967392460052000.feather 315967392460052000 - 315967392460052000 = 0 seconds --> time lag\n",
    "# kiss    315967392460052000 - 315967376859506000 = 15.600 545 984\n",
    "# feather 315967392460052000 - 315967376859506000 = 15.600 545 984\n",
    "\n",
    "# 315967376857428267: SE3(rotation=array([[-0.89413024,  0.44768386,  0.01050111],\n",
    "#    [-0.44754191, -0.89416197,  0.01343942],\n",
    "#    [ 0.01540631,  0.00731691,  0.99985454]]), translation=array([1618.8135922 ,  263.4003921 ,   14.07681568])),\n",
    "# 315967392799927216: SE3(rotation=array([[-0.94383344,  0.33022223, -0.01147644],\n",
    "#        [-0.33040003, -0.94280559,  0.04419778],\n",
    "#        [ 0.00377504,  0.04550716,  0.99895688]]), translation=array([1541.66713904,  247.68698184,   14.10292523]))}\n",
    "# 315967392799927216 - 315967376857428267 = 15 942 498 944\n",
    "\n",
    "# --------------------------------------------\n",
    "\n",
    "# sequence train-000 001\n",
    "# 0  :315 968 867 659 956 000\n",
    "# 0  :315 968 251 560 183 000.feather 315968251560183000 - 315968867659956000 = -616.099 772 992\n",
    "# -1 :315 968 883 060 181 000\n",
    "# -1 :315 968 267 060 067 000.feather 315968267060067000 - 315968883060181000 = -616.0001 13 984\n",
    "# kiss    315968883060181000 - 315968867659956000 = 15.400 225 024\n",
    "# feather 315968267060067000 - 315968251560183000 = 15.499 884 032\n",
    "\n",
    "# {315968867577482491: SE3(rotation=array([[ 0.86512888,  0.50048784, -0.03261824],\n",
    "#        [-0.50103677,  0.86535493, -0.01109065],\n",
    "#        [ 0.02267562,  0.02593777,  0.99940635]]), translation=array([4284.21328549, 1211.17846309,  -15.95570786])),\n",
    "# 315968883527482495: SE3(rotation=array([[-0.01715927,  0.99985039,  0.00218326],\n",
    "#       [-0.9996909 , -0.01719574,  0.01795585],\n",
    "#       [ 0.0179907 , -0.00187448,  0.9998364 ]]), translation=array([4363.57778515, 1146.87681034,  -14.277844  ]))}\n",
    "\n",
    "# 315968883527482495 - 315968867577482491 = 15.950 000 000\n",
    "\n",
    "# --------------------------------------------\n",
    "\n",
    "#seq 49\n",
    "# 0  :315968058959786000\n",
    "# 0  :315969823059705000.feather 315969823059705000 - 315968058959786000 = 1764.099 919 040 seconds\n",
    "# -1 :315968074360030000\n",
    "# -1 :315969838659881000.feather 315969838659881000 - 315968074360030000 = 1764.299 851 008 seconds --> time lag\n",
    "# kiss    315968074360030000 - 315968058959786000 = 15.400 244 032\n",
    "# feather 315969838659881000 - 315969823059705000 = 15.600 176 000\n",
    "# ego[0]= 315968093199927208\n",
    "# ego[2688] = 315968109157428269 - 315968093199927208 = 15.957 501 056\n",
    "\n"
   ]
  },
  {
   "cell_type": "code",
   "execution_count": 5,
   "id": "f27837e1-7fab-4dd5-80de-13007b074313",
   "metadata": {},
   "outputs": [],
   "source": [
    "# --------------------------------------------\n",
    "# sequence train-001 000\n",
    "\n",
    "# 0  :315 969 841 360 228 000\n",
    "# 0  :315 974 122 659 947 000.feather 315974122659947000 - 315969841360228000 = 4 281 299 719 040 seconds --> time lag\n",
    "# -1 :315 969 856 960 396 000\n",
    "# -1 :315 974 138 259 798 000.feather 315974138259798000 - 315969856960396000 = 4 281 299 401 984 seconds --> time lag\n",
    "\n",
    "# sequence train-001 002\n",
    "# 0  :315 966 026 660 361 000\n",
    "# 0  :315 978 635 059 674 000.feather 315 978635059674000 - 315 966026660361000 = 12 608 399 313 000\n",
    "# -1 :315 970 245 359 524 000\n",
    "# -1 :315 978 650 659 801 000.feather 315978650659801000 - 315970245359524000 = 8.405 300 280 000\n",
    "\n"
   ]
  },
  {
   "cell_type": "code",
   "execution_count": null,
   "id": "200a29d7-1aa0-4584-b876-32fc13f62e99",
   "metadata": {},
   "outputs": [],
   "source": []
  },
  {
   "cell_type": "code",
   "execution_count": 7,
   "id": "4982de5f-f08a-4ccd-99b7-d75aac1d771b",
   "metadata": {},
   "outputs": [],
   "source": [
    "# dataset_dir = Path(\"/home/ohmpr/data/datasets/av2/\")\n",
    "# # This save in jupyter notebook path.\n",
    "# argo_dataset = Argoverse2Dataset(dataset_dir, 1)\n",
    "# print(\"len\", len(argo_dataset))"
   ]
  },
  {
   "cell_type": "code",
   "execution_count": null,
   "id": "07efd44f-967d-4403-9348-f583610f81c3",
   "metadata": {},
   "outputs": [],
   "source": []
  }
 ],
 "metadata": {
  "kernelspec": {
   "display_name": "Python 3 (ipykernel)",
   "language": "python",
   "name": "python3"
  },
  "language_info": {
   "codemirror_mode": {
    "name": "ipython",
    "version": 3
   },
   "file_extension": ".py",
   "mimetype": "text/x-python",
   "name": "python",
   "nbconvert_exporter": "python",
   "pygments_lexer": "ipython3",
   "version": "3.10.12"
  }
 },
 "nbformat": 4,
 "nbformat_minor": 5
}
